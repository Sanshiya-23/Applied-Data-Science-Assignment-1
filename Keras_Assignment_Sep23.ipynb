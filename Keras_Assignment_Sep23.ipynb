{
  "nbformat": 4,
  "nbformat_minor": 0,
  "metadata": {
    "colab": {
      "provenance": [],
      "gpuType": "T4",
      "include_colab_link": true
    },
    "kernelspec": {
      "name": "python3",
      "display_name": "Python 3"
    },
    "language_info": {
      "name": "python"
    },
    "accelerator": "GPU"
  },
  "cells": [
    {
      "cell_type": "markdown",
      "metadata": {
        "id": "view-in-github",
        "colab_type": "text"
      },
      "source": [
        "<a href=\"https://colab.research.google.com/github/Sanshiya-23/Applied-Data-Science-Assignment-1/blob/main/Keras_Assignment_Sep23.ipynb\" target=\"_parent\"><img src=\"https://colab.research.google.com/assets/colab-badge.svg\" alt=\"Open In Colab\"/></a>"
      ]
    },
    {
      "cell_type": "markdown",
      "source": [
        "# Applied Data Science 2 - Keras Assignment - 2023A\n",
        "\n",
        "In this assignment you will be building a script to classify images of animals. The assignment is broken up into sections and you need to complete each section successively. The sections are:\n",
        "\n",
        "1. Data Processing\n",
        "2. Model Definition\n",
        "3. Model Training\n",
        "4. Model Evaluation\n",
        "\n",
        "In addition to this coding exercise, you will also need to write a 1-2 page report analysing and critically evaluating you models results."
      ],
      "metadata": {
        "id": "nQrpKRkEIBB5"
      }
    },
    {
      "cell_type": "markdown",
      "source": [
        "from google.colab import drive\n",
        "drive.mount('/content/drive/MyDrive/Animals (1)')"
      ],
      "metadata": {
        "id": "aPP_7eXi0hk5"
      }
    },
    {
      "cell_type": "code",
      "execution_count": null,
      "metadata": {
        "id": "eBNRzib8voMm"
      },
      "outputs": [],
      "source": [
        "# Enter your module imports here, some modules are already provided\n",
        "\n",
        "import numpy as np\n",
        "import matplotlib.pyplot as plt\n",
        "import tensorflow as tf\n",
        "from tensorflow import keras\n",
        "import os\n",
        "import pathlib"
      ]
    },
    {
      "cell_type": "code",
      "source": [
        "# CodeGrade Tag Init1\n",
        "from google.colab import drive\n",
        "drive.mount('/content/drive/')"
      ],
      "metadata": {
        "id": "MGHk085OWCT_",
        "colab": {
          "base_uri": "https://localhost:8080/"
        },
        "outputId": "396748ea-f20d-4df5-bd04-ff396fa7b0d5"
      },
      "execution_count": null,
      "outputs": [
        {
          "output_type": "stream",
          "name": "stdout",
          "text": [
            "Mounted at /content/drive/\n"
          ]
        }
      ]
    },
    {
      "cell_type": "markdown",
      "source": [
        "# Data Processing\n",
        "\n"
      ],
      "metadata": {
        "id": "PN-7QYYKKCOH"
      }
    },
    {
      "cell_type": "code",
      "source": [
        "# CodeGrade Tag DataProc\n",
        "\n",
        "label_dict = {'cat' : 0,\n",
        "              'dog' : 1,\n",
        "              'wild' : 2}\n",
        "\n",
        "# This function is provided to read in the image files from the folder on your\n",
        "# Google Drive\n",
        "def parse_image(filename):\n",
        "  parts = tf.strings.split(filename, os.sep)\n",
        "  label = parts[-2]\n",
        "  label = tf.strings.to_number(label)\n",
        "\n",
        "  image = tf.io.read_file(filename)\n",
        "  image = tf.io.decode_jpeg(image)\n",
        "  return image, label\n",
        "\n",
        "img_loc = \"/content/drive/MyDrive/Animals (1)/Animals\"\n",
        "\n",
        "train_list_ds = tf.data.Dataset.list_files(img_loc + \"/train/*/*\")\n",
        "valid_list_ds = tf.data.Dataset.list_files(img_loc + \"/val/*/*\")\n"
      ],
      "metadata": {
        "id": "9yWqczq8KGI6"
      },
      "execution_count": null,
      "outputs": []
    },
    {
      "cell_type": "markdown",
      "source": [
        "**Create a function called \"img_process\" converts the images to float32 datatype and resizes them to 64x64 pixels.**"
      ],
      "metadata": {
        "id": "q3hIMuVQM4AN"
      }
    },
    {
      "cell_type": "code",
      "source": [
        "# CodeGrade Tag Ex1a\n",
        "### Write a function called img_process, which takes in the image and label as\n",
        "### inputs, converts the data type of the image to tf.float32, resizes the\n",
        "### image to (64,64), and finally returns the image and labels.\n",
        "\n",
        "def img_process(image, label):\n",
        "    \"\"\"\n",
        "    Processes an image by converting its type and resizing.\n",
        "\n",
        "    Args:\n",
        "        image (tf.Tensor): Input image in uint8 format.\n",
        "        label (int): Image label.\n",
        "\n",
        "    Returns:\n",
        "        Processed image and label.\n",
        "    \"\"\"\n",
        "    # Convert it to float32\n",
        "    image = tf.cast(image, tf.float32) / 255.0\n",
        "    # Flipping the image randomly\n",
        "    image = tf.image.random_flip_left_right(image)\n",
        "    # Adjusting the image brightness\n",
        "    image = tf.image.random_brightness(image, max_delta=0.1)\n",
        "    # Resizing to 64x64\n",
        "    image = tf.image.resize(image, [64, 64])\n",
        "\n",
        "    return image, label"
      ],
      "metadata": {
        "id": "BxtGcsAWM3gs"
      },
      "execution_count": null,
      "outputs": []
    },
    {
      "cell_type": "markdown",
      "source": [
        "**Using the tf.data API, load in the training and validation data. Be mindful of efficient data processing good practice to minimise the time it takes to load the data.**"
      ],
      "metadata": {
        "id": "G51UPu0fNmNf"
      }
    },
    {
      "cell_type": "code",
      "source": [
        "# CodeGrade Tag Ex1b\n",
        "### Use the parse_image and img_process functions to construct the training and\n",
        "### validation datasets. You should utilise good practice in optimising the\n",
        "### dataset loading. Use a batch size of 128. Use techniques like caching and\n",
        "### prefetching to efficiently load the data.\n",
        "\n",
        "\n",
        "# Training dataset\n",
        "train_ds = (\n",
        "    train_list_ds\n",
        "    .map(parse_image, num_parallel_calls=tf.data.AUTOTUNE)\n",
        "    .batch(128)  # Batch before processing\n",
        "    .map(img_process, num_parallel_calls=tf.data.AUTOTUNE)  # Process over batches\n",
        "    .cache()  # Cache the processed dataset\n",
        "    .shuffle(buffer_size=1000)  # Shuffle after caching\n",
        "    .prefetch(tf.data.AUTOTUNE)  # Prefetching for efficiency\n",
        ")\n",
        "\n",
        "# Validation dataset\n",
        "valid_ds = (\n",
        "    valid_list_ds\n",
        "    .map(parse_image, num_parallel_calls=tf.data.AUTOTUNE)\n",
        "    .batch(128)  # Batch before processing\n",
        "    .map(img_process, num_parallel_calls=tf.data.AUTOTUNE)  # Process over batches\n",
        "    .cache()  # Cache the processed dataset\n",
        "    .prefetch(tf.data.AUTOTUNE)  # Prefetching for efficiency\n",
        ")"
      ],
      "metadata": {
        "id": "VNUS8p98Ph5L"
      },
      "execution_count": null,
      "outputs": []
    },
    {
      "cell_type": "markdown",
      "source": [
        "# Model Definition\n",
        "\n",
        "**Using the Keras Functional API, create a convolutional neural network with the architecture show in the model summary below.**\n",
        "\n",
        "**A few important points to consider:**\n",
        "\n",
        "* Call the convolutional layers and the first dense layer should have ReLU activation functions. The output layer should have a SoftMax activation function.\n",
        "* Pay attention to the output shapes and the number of partmeters for each layer, as these give indications as to the correct settings for the number of filters, kernel size, stride length and padding.\n",
        "* Use the layer names provided in the summary in your model."
      ],
      "metadata": {
        "id": "86Uo36n_KGYb"
      }
    },
    {
      "cell_type": "markdown",
      "source": [
        "\n",
        "```\n",
        "# Model Summary\n",
        "\n",
        "Model: \"model\"\n",
        "_________________________________________________________________\n",
        " Layer (type)                Output Shape              Param #   \n",
        "=================================================================\n",
        " Input (InputLayer)          [(None, 64, 64, 3)]       0         \n",
        "                                                                 \n",
        " Conv0 (Conv2D)              (None, 32, 32, 16)        1216      \n",
        "                                                                 \n",
        " Conv1 (Conv2D)              (None, 32, 32, 32)        4640      \n",
        "                                                                 \n",
        " Conv2 (Conv2D)              (None, 32, 32, 32)        9248      \n",
        "                                                                 \n",
        " Pool1 (MaxPooling2D)        (None, 16, 16, 32)        0         \n",
        "                                                                 \n",
        " Conv3 (Conv2D)              (None, 16, 16, 64)        18496     \n",
        "                                                                 \n",
        " Conv4 (Conv2D)              (None, 16, 16, 64)        36928     \n",
        "                                                                 \n",
        " Pool2 (MaxPooling2D)        (None, 8, 8, 64)          0         \n",
        "                                                                 \n",
        " Conv5 (Conv2D)              (None, 8, 8, 128)         73856     \n",
        "                                                                 \n",
        " Conv6 (Conv2D)              (None, 8, 8, 128)         147584    \n",
        "                                                                 \n",
        " GlobalPool (GlobalAverageP  (None, 128)               0         \n",
        " ooling2D)                                                       \n",
        "                                                                 \n",
        " FC1 (Dense)                 (None, 512)               66048     \n",
        "                                                                 \n",
        " Output (Dense)              (None, 10)                5130      \n",
        "                                                                 \n",
        "=================================================================\n",
        "Total params: 363146 (1.39 MB)\n",
        "Trainable params: 363146 (1.39 MB)\n",
        "Non-trainable params: 0 (0.00 Byte)\n",
        "_________________________________________________________________\n",
        "\n",
        "\n",
        "```\n",
        "\n"
      ],
      "metadata": {
        "id": "hBSBfH-QP6M0"
      }
    },
    {
      "cell_type": "code",
      "source": [
        "# CodeGrade Tag Ex2a\n",
        "### Define the model using the Keras Functional API. Use the summary above as a\n",
        "### guide for the model parameters. You will need to define the filters/units of\n",
        "### the layers correctly, as well as the kernel size, stride length and padding\n",
        "### of the convolutional layers.\n",
        "\n",
        "from tensorflow.keras import layers, models\n",
        "\n",
        "Input = layers.Input(shape=(64, 64, 3), name='Inputlayer')\n",
        "Conv0 = layers.Conv2D(16, (5, 5), strides=2, padding='same', activation='relu', name='Conv0')(Input)\n",
        "Conv1 = layers.Conv2D(32, (3, 3), strides=1, padding='same', activation='relu', name='Conv1')(Conv0)\n",
        "Conv2 = layers.Conv2D(32, (3, 3), strides=1, padding='same', activation='relu', name='Conv2')(Conv1)\n",
        "Pool1 = layers.MaxPooling2D((2, 2), strides=2, name='Pool1')(Conv2)\n",
        "Conv3 = layers.Conv2D(64, (3, 3), strides=1, padding='same', activation='relu', name='Conv3')(Pool1)\n",
        "Conv4 = layers.Conv2D(64, (3, 3), strides=1, padding='same', activation='relu', name='Conv4')(Conv3)\n",
        "Pool2 = layers.MaxPooling2D((2, 2), strides=2, name='Pool2')(Conv4)\n",
        "Conv5 = layers.Conv2D(128, (3, 3), strides=1, padding='same', activation='relu', name='Conv5')(Pool2)\n",
        "Conv6 = layers.Conv2D(128, (3, 3), strides=1, padding='same', activation='relu', name='Conv6')(Conv5)\n",
        "GlobalPool = layers.GlobalAveragePooling2D(name='GlobalPool')(Conv6)\n",
        "\n",
        "# Fully connected layer\n",
        "FC1 = layers.Dense(512, activation='relu', name='FC1')(GlobalPool)\n",
        "\n",
        "# Output layer\n",
        "output = layers.Dense(3, activation='softmax', name='Output')(FC1)\n",
        "\n",
        "# Create the model\n",
        "model = models.Model(inputs=Input, outputs=output, name='model')"
      ],
      "metadata": {
        "id": "im9qipCiKJMK"
      },
      "execution_count": null,
      "outputs": []
    },
    {
      "cell_type": "code",
      "source": [
        "# CodeGrade Tag Ex2b\n",
        "### Print the model summary and confirm is has the same architecture as the one\n",
        "### provided.\n",
        "\n",
        "# Display the model summary\n",
        "model.summary()\n",
        "\n"
      ],
      "metadata": {
        "id": "4ogeFQCqnz06",
        "colab": {
          "base_uri": "https://localhost:8080/"
        },
        "outputId": "7180bc23-7dfa-4a6f-c800-76719754e42a"
      },
      "execution_count": null,
      "outputs": [
        {
          "output_type": "stream",
          "name": "stdout",
          "text": [
            "Model: \"model\"\n",
            "_________________________________________________________________\n",
            " Layer (type)                Output Shape              Param #   \n",
            "=================================================================\n",
            " Inputlayer (InputLayer)     [(None, 64, 64, 3)]       0         \n",
            "                                                                 \n",
            " Conv0 (Conv2D)              (None, 32, 32, 16)        1216      \n",
            "                                                                 \n",
            " Conv1 (Conv2D)              (None, 32, 32, 32)        4640      \n",
            "                                                                 \n",
            " Conv2 (Conv2D)              (None, 32, 32, 32)        9248      \n",
            "                                                                 \n",
            " Pool1 (MaxPooling2D)        (None, 16, 16, 32)        0         \n",
            "                                                                 \n",
            " Conv3 (Conv2D)              (None, 16, 16, 64)        18496     \n",
            "                                                                 \n",
            " Conv4 (Conv2D)              (None, 16, 16, 64)        36928     \n",
            "                                                                 \n",
            " Pool2 (MaxPooling2D)        (None, 8, 8, 64)          0         \n",
            "                                                                 \n",
            " Conv5 (Conv2D)              (None, 8, 8, 128)         73856     \n",
            "                                                                 \n",
            " Conv6 (Conv2D)              (None, 8, 8, 128)         147584    \n",
            "                                                                 \n",
            " GlobalPool (GlobalAverageP  (None, 128)               0         \n",
            " ooling2D)                                                       \n",
            "                                                                 \n",
            " FC1 (Dense)                 (None, 512)               66048     \n",
            "                                                                 \n",
            " Output (Dense)              (None, 3)                 1539      \n",
            "                                                                 \n",
            "=================================================================\n",
            "Total params: 359555 (1.37 MB)\n",
            "Trainable params: 359555 (1.37 MB)\n",
            "Non-trainable params: 0 (0.00 Byte)\n",
            "_________________________________________________________________\n"
          ]
        }
      ]
    },
    {
      "cell_type": "markdown",
      "source": [
        "**Compile the model using the Adam Optimizer with a learning rate of ```5e-5```, ```sparse categorical crossentropy``` loss function, and ```accuracy``` metric.**"
      ],
      "metadata": {
        "id": "7Q4qQnsuP-CM"
      }
    },
    {
      "cell_type": "code",
      "source": [
        "# CodeGrade Tag Ex2c\n",
        "\n",
        "# Compile the model\n",
        "from tensorflow.keras.optimizers import Adam\n",
        "\n",
        "model.compile(optimizer=Adam(learning_rate=5e-5),\n",
        "    loss='sparse_categorical_crossentropy',\n",
        "    metrics=['accuracy'])\n"
      ],
      "metadata": {
        "id": "qndXNKsyQl2G"
      },
      "execution_count": null,
      "outputs": []
    },
    {
      "cell_type": "markdown",
      "source": [
        "# Model Training\n",
        "\n",
        "**Create a Model Checkpoint Callback that saves the weights of the best performing epoch, based on the validation accuracy.**"
      ],
      "metadata": {
        "id": "4G9gILWpKJXP"
      }
    },
    {
      "cell_type": "code",
      "source": [
        "# CodeGrade Tag Ex3a\n",
        "### Create a ModelCheckpoint callback to store the bext weights from the model,\n",
        "### based on the validation accuracy. Call this callback \"checkpoint_callback\"\n",
        "\n",
        "checkpoint_filepath = '/content/checkpoint'\n",
        "\n",
        "\n",
        "# Create a ModelCheckpoint callback\n",
        "checkpoint_callback = tf.keras.callbacks.ModelCheckpoint(\n",
        "    filepath=checkpoint_filepath,\n",
        "    monitor='val_accuracy',  # Monitor validation accuracy\n",
        "    save_best_only=True,      # Save only the best model\n",
        "    save_weights_only=True,   # Save only the model weights\n",
        "    mode='max',               # Save the maximum accuracy models\n",
        "    verbose=1                 # Show progress\n",
        ")"
      ],
      "metadata": {
        "id": "ulXjHaiZKLLZ"
      },
      "execution_count": null,
      "outputs": []
    },
    {
      "cell_type": "markdown",
      "source": [
        "**Create a Learning Rate Scheduler Callback that utilises the provided function to decrease the learning rate during training.**"
      ],
      "metadata": {
        "id": "9iUsL966RQMJ"
      }
    },
    {
      "cell_type": "code",
      "source": [
        "# CodeGrade Tag Ex3b\n",
        "### Using the function provided, create a LearningRateScheduler callback, call\n",
        "### it \"lr_callback\"\n",
        "\n",
        "def scheduler(epoch, lr):\n",
        "    if epoch < 10:\n",
        "        return lr\n",
        "    else:\n",
        "        return lr * tf.math.exp(-0.01)\n",
        "\n",
        "\n",
        "lr_callback = tf.keras.callbacks.LearningRateScheduler(scheduler)\n"
      ],
      "metadata": {
        "id": "5jhC3C7qRX1B"
      },
      "execution_count": null,
      "outputs": []
    },
    {
      "cell_type": "markdown",
      "source": [
        "**Train the model for 100 epochs, using the callbacks you made previously. Store the losses and metrics to use later.**"
      ],
      "metadata": {
        "id": "zQbqwZNjRYIC"
      }
    },
    {
      "cell_type": "code",
      "source": [
        "# CodeGrade Tag Ex3c\n",
        "### Train the model for 100 epochs, using the callbacks you have created. Store\n",
        "### the losses and metrics in a history object.\n",
        "\n",
        "# Number of 100 epochs\n",
        "num_epochs = 100\n",
        "# Train the model for 100 epochs\n",
        "history = model.fit(\n",
        "    train_ds,                          # Training dataset\n",
        "    epochs=num_epochs,                 # Number of 100 epochs\n",
        "    validation_data=valid_ds,          # Validation dataset\n",
        "    callbacks=[checkpoint_callback, lr_callback]) # List of callbacks\n"
      ],
      "metadata": {
        "id": "05qEIpORRfr8",
        "colab": {
          "base_uri": "https://localhost:8080/"
        },
        "outputId": "7f03b6e3-66fa-4ee3-b82c-b3d958649ec1"
      },
      "execution_count": null,
      "outputs": [
        {
          "output_type": "stream",
          "name": "stdout",
          "text": [
            "Epoch 1/100\n",
            "114/115 [============================>.] - ETA: 0s - loss: 1.0916 - accuracy: 0.3610\n",
            "Epoch 1: val_accuracy improved from -inf to 0.57733, saving model to /content/checkpoint\n",
            "115/115 [==============================] - 1762s 2s/step - loss: 1.0913 - accuracy: 0.3624 - val_loss: 1.0528 - val_accuracy: 0.5773 - lr: 5.0000e-05\n",
            "Epoch 2/100\n",
            "112/115 [============================>.] - ETA: 0s - loss: 0.9385 - accuracy: 0.5376\n",
            "Epoch 2: val_accuracy improved from 0.57733 to 0.57867, saving model to /content/checkpoint\n",
            "115/115 [==============================] - 2s 17ms/step - loss: 0.9356 - accuracy: 0.5391 - val_loss: 0.8589 - val_accuracy: 0.5787 - lr: 5.0000e-05\n",
            "Epoch 3/100\n",
            "113/115 [============================>.] - ETA: 0s - loss: 0.8493 - accuracy: 0.5735\n",
            "Epoch 3: val_accuracy improved from 0.57867 to 0.60533, saving model to /content/checkpoint\n",
            "115/115 [==============================] - 2s 16ms/step - loss: 0.8486 - accuracy: 0.5741 - val_loss: 0.8170 - val_accuracy: 0.6053 - lr: 5.0000e-05\n",
            "Epoch 4/100\n",
            "112/115 [============================>.] - ETA: 0s - loss: 0.8226 - accuracy: 0.5969\n",
            "Epoch 4: val_accuracy improved from 0.60533 to 0.62533, saving model to /content/checkpoint\n",
            "115/115 [==============================] - 2s 16ms/step - loss: 0.8215 - accuracy: 0.5975 - val_loss: 0.7905 - val_accuracy: 0.6253 - lr: 5.0000e-05\n",
            "Epoch 5/100\n",
            "113/115 [============================>.] - ETA: 0s - loss: 0.7812 - accuracy: 0.6330\n",
            "Epoch 5: val_accuracy improved from 0.62533 to 0.63933, saving model to /content/checkpoint\n",
            "115/115 [==============================] - 2s 16ms/step - loss: 0.7811 - accuracy: 0.6328 - val_loss: 0.7637 - val_accuracy: 0.6393 - lr: 5.0000e-05\n",
            "Epoch 6/100\n",
            "115/115 [==============================] - ETA: 0s - loss: 0.7546 - accuracy: 0.6566\n",
            "Epoch 6: val_accuracy improved from 0.63933 to 0.66800, saving model to /content/checkpoint\n",
            "115/115 [==============================] - 2s 16ms/step - loss: 0.7546 - accuracy: 0.6566 - val_loss: 0.7543 - val_accuracy: 0.6680 - lr: 5.0000e-05\n",
            "Epoch 7/100\n",
            "115/115 [==============================] - ETA: 0s - loss: 0.7143 - accuracy: 0.6788\n",
            "Epoch 7: val_accuracy improved from 0.66800 to 0.70000, saving model to /content/checkpoint\n",
            "115/115 [==============================] - 2s 18ms/step - loss: 0.7143 - accuracy: 0.6788 - val_loss: 0.6798 - val_accuracy: 0.7000 - lr: 5.0000e-05\n",
            "Epoch 8/100\n",
            "115/115 [==============================] - ETA: 0s - loss: 0.6607 - accuracy: 0.7124\n",
            "Epoch 8: val_accuracy did not improve from 0.70000\n",
            "115/115 [==============================] - 2s 18ms/step - loss: 0.6607 - accuracy: 0.7124 - val_loss: 0.6603 - val_accuracy: 0.6960 - lr: 5.0000e-05\n",
            "Epoch 9/100\n",
            "113/115 [============================>.] - ETA: 0s - loss: 0.6356 - accuracy: 0.7283\n",
            "Epoch 9: val_accuracy improved from 0.70000 to 0.73200, saving model to /content/checkpoint\n",
            "115/115 [==============================] - 2s 16ms/step - loss: 0.6347 - accuracy: 0.7282 - val_loss: 0.6156 - val_accuracy: 0.7320 - lr: 5.0000e-05\n",
            "Epoch 10/100\n",
            "113/115 [============================>.] - ETA: 0s - loss: 0.6091 - accuracy: 0.7359\n",
            "Epoch 10: val_accuracy did not improve from 0.73200\n",
            "115/115 [==============================] - 2s 16ms/step - loss: 0.6096 - accuracy: 0.7356 - val_loss: 0.5912 - val_accuracy: 0.7273 - lr: 5.0000e-05\n",
            "Epoch 11/100\n",
            "115/115 [==============================] - ETA: 0s - loss: 0.5832 - accuracy: 0.7524\n",
            "Epoch 11: val_accuracy improved from 0.73200 to 0.75067, saving model to /content/checkpoint\n",
            "115/115 [==============================] - 2s 16ms/step - loss: 0.5832 - accuracy: 0.7524 - val_loss: 0.5599 - val_accuracy: 0.7507 - lr: 4.9502e-05\n",
            "Epoch 12/100\n",
            "112/115 [============================>.] - ETA: 0s - loss: 0.5674 - accuracy: 0.7571\n",
            "Epoch 12: val_accuracy improved from 0.75067 to 0.75133, saving model to /content/checkpoint\n",
            "115/115 [==============================] - 2s 16ms/step - loss: 0.5659 - accuracy: 0.7577 - val_loss: 0.5503 - val_accuracy: 0.7513 - lr: 4.9010e-05\n",
            "Epoch 13/100\n",
            "112/115 [============================>.] - ETA: 0s - loss: 0.5716 - accuracy: 0.7553\n",
            "Epoch 13: val_accuracy improved from 0.75133 to 0.76267, saving model to /content/checkpoint\n",
            "115/115 [==============================] - 2s 17ms/step - loss: 0.5692 - accuracy: 0.7574 - val_loss: 0.5367 - val_accuracy: 0.7627 - lr: 4.8522e-05\n",
            "Epoch 14/100\n",
            "114/115 [============================>.] - ETA: 0s - loss: 0.5441 - accuracy: 0.7716\n",
            "Epoch 14: val_accuracy improved from 0.76267 to 0.76600, saving model to /content/checkpoint\n",
            "115/115 [==============================] - 2s 19ms/step - loss: 0.5440 - accuracy: 0.7715 - val_loss: 0.5300 - val_accuracy: 0.7660 - lr: 4.8039e-05\n",
            "Epoch 15/100\n",
            "113/115 [============================>.] - ETA: 0s - loss: 0.5255 - accuracy: 0.7800\n",
            "Epoch 15: val_accuracy improved from 0.76600 to 0.77800, saving model to /content/checkpoint\n",
            "115/115 [==============================] - 2s 19ms/step - loss: 0.5257 - accuracy: 0.7799 - val_loss: 0.5093 - val_accuracy: 0.7780 - lr: 4.7561e-05\n",
            "Epoch 16/100\n",
            "113/115 [============================>.] - ETA: 0s - loss: 0.5218 - accuracy: 0.7817\n",
            "Epoch 16: val_accuracy improved from 0.77800 to 0.78867, saving model to /content/checkpoint\n",
            "115/115 [==============================] - 2s 16ms/step - loss: 0.5229 - accuracy: 0.7812 - val_loss: 0.5088 - val_accuracy: 0.7887 - lr: 4.7088e-05\n",
            "Epoch 17/100\n",
            "112/115 [============================>.] - ETA: 0s - loss: 0.5154 - accuracy: 0.7854\n",
            "Epoch 17: val_accuracy improved from 0.78867 to 0.79133, saving model to /content/checkpoint\n",
            "115/115 [==============================] - 2s 16ms/step - loss: 0.5148 - accuracy: 0.7858 - val_loss: 0.4893 - val_accuracy: 0.7913 - lr: 4.6620e-05\n",
            "Epoch 18/100\n",
            "112/115 [============================>.] - ETA: 0s - loss: 0.5069 - accuracy: 0.7899\n",
            "Epoch 18: val_accuracy did not improve from 0.79133\n",
            "115/115 [==============================] - 2s 16ms/step - loss: 0.5072 - accuracy: 0.7901 - val_loss: 0.4937 - val_accuracy: 0.7887 - lr: 4.6156e-05\n",
            "Epoch 19/100\n",
            "115/115 [==============================] - ETA: 0s - loss: 0.4926 - accuracy: 0.7998\n",
            "Epoch 19: val_accuracy improved from 0.79133 to 0.79533, saving model to /content/checkpoint\n",
            "115/115 [==============================] - 2s 16ms/step - loss: 0.4926 - accuracy: 0.7998 - val_loss: 0.4920 - val_accuracy: 0.7953 - lr: 4.5697e-05\n",
            "Epoch 20/100\n",
            "115/115 [==============================] - ETA: 0s - loss: 0.4930 - accuracy: 0.7978\n",
            "Epoch 20: val_accuracy improved from 0.79533 to 0.80533, saving model to /content/checkpoint\n",
            "115/115 [==============================] - 2s 17ms/step - loss: 0.4930 - accuracy: 0.7978 - val_loss: 0.4702 - val_accuracy: 0.8053 - lr: 4.5242e-05\n",
            "Epoch 21/100\n",
            "115/115 [==============================] - ETA: 0s - loss: 0.4880 - accuracy: 0.7991\n",
            "Epoch 21: val_accuracy did not improve from 0.80533\n",
            "115/115 [==============================] - 2s 17ms/step - loss: 0.4880 - accuracy: 0.7991 - val_loss: 0.4857 - val_accuracy: 0.7980 - lr: 4.4792e-05\n",
            "Epoch 22/100\n",
            "115/115 [==============================] - ETA: 0s - loss: 0.4763 - accuracy: 0.8068\n",
            "Epoch 22: val_accuracy improved from 0.80533 to 0.81067, saving model to /content/checkpoint\n",
            "115/115 [==============================] - 2s 18ms/step - loss: 0.4763 - accuracy: 0.8068 - val_loss: 0.4597 - val_accuracy: 0.8107 - lr: 4.4346e-05\n",
            "Epoch 23/100\n",
            "113/115 [============================>.] - ETA: 0s - loss: 0.4654 - accuracy: 0.8102\n",
            "Epoch 23: val_accuracy improved from 0.81067 to 0.81933, saving model to /content/checkpoint\n",
            "115/115 [==============================] - 2s 16ms/step - loss: 0.4648 - accuracy: 0.8107 - val_loss: 0.4534 - val_accuracy: 0.8193 - lr: 4.3905e-05\n",
            "Epoch 24/100\n",
            "115/115 [==============================] - ETA: 0s - loss: 0.4571 - accuracy: 0.8129\n",
            "Epoch 24: val_accuracy did not improve from 0.81933\n",
            "115/115 [==============================] - 2s 15ms/step - loss: 0.4571 - accuracy: 0.8129 - val_loss: 0.4504 - val_accuracy: 0.8167 - lr: 4.3468e-05\n",
            "Epoch 25/100\n",
            "113/115 [============================>.] - ETA: 0s - loss: 0.4501 - accuracy: 0.8178\n",
            "Epoch 25: val_accuracy improved from 0.81933 to 0.83267, saving model to /content/checkpoint\n",
            "115/115 [==============================] - 2s 16ms/step - loss: 0.4512 - accuracy: 0.8174 - val_loss: 0.4263 - val_accuracy: 0.8327 - lr: 4.3035e-05\n",
            "Epoch 26/100\n",
            "113/115 [============================>.] - ETA: 0s - loss: 0.4349 - accuracy: 0.8278\n",
            "Epoch 26: val_accuracy did not improve from 0.83267\n",
            "115/115 [==============================] - 2s 15ms/step - loss: 0.4352 - accuracy: 0.8274 - val_loss: 0.4526 - val_accuracy: 0.8167 - lr: 4.2607e-05\n",
            "Epoch 27/100\n",
            "113/115 [============================>.] - ETA: 0s - loss: 0.4311 - accuracy: 0.8284\n",
            "Epoch 27: val_accuracy improved from 0.83267 to 0.83867, saving model to /content/checkpoint\n",
            "115/115 [==============================] - 2s 16ms/step - loss: 0.4310 - accuracy: 0.8286 - val_loss: 0.4086 - val_accuracy: 0.8387 - lr: 4.2183e-05\n",
            "Epoch 28/100\n",
            "115/115 [==============================] - ETA: 0s - loss: 0.4306 - accuracy: 0.8284\n",
            "Epoch 28: val_accuracy did not improve from 0.83867\n",
            "115/115 [==============================] - 2s 17ms/step - loss: 0.4306 - accuracy: 0.8284 - val_loss: 0.4362 - val_accuracy: 0.8167 - lr: 4.1764e-05\n",
            "Epoch 29/100\n",
            "115/115 [==============================] - ETA: 0s - loss: 0.4207 - accuracy: 0.8293\n",
            "Epoch 29: val_accuracy did not improve from 0.83867\n",
            "115/115 [==============================] - 2s 17ms/step - loss: 0.4207 - accuracy: 0.8293 - val_loss: 0.4152 - val_accuracy: 0.8367 - lr: 4.1348e-05\n",
            "Epoch 30/100\n",
            "113/115 [============================>.] - ETA: 0s - loss: 0.4159 - accuracy: 0.8353\n",
            "Epoch 30: val_accuracy improved from 0.83867 to 0.84400, saving model to /content/checkpoint\n",
            "115/115 [==============================] - 2s 16ms/step - loss: 0.4147 - accuracy: 0.8362 - val_loss: 0.3893 - val_accuracy: 0.8440 - lr: 4.0937e-05\n",
            "Epoch 31/100\n",
            "113/115 [============================>.] - ETA: 0s - loss: 0.4069 - accuracy: 0.8400\n",
            "Epoch 31: val_accuracy did not improve from 0.84400\n",
            "115/115 [==============================] - 2s 15ms/step - loss: 0.4072 - accuracy: 0.8402 - val_loss: 0.4004 - val_accuracy: 0.8420 - lr: 4.0529e-05\n",
            "Epoch 32/100\n",
            "112/115 [============================>.] - ETA: 0s - loss: 0.4028 - accuracy: 0.8408\n",
            "Epoch 32: val_accuracy improved from 0.84400 to 0.84600, saving model to /content/checkpoint\n",
            "115/115 [==============================] - 2s 16ms/step - loss: 0.4023 - accuracy: 0.8407 - val_loss: 0.3847 - val_accuracy: 0.8460 - lr: 4.0126e-05\n",
            "Epoch 33/100\n",
            "113/115 [============================>.] - ETA: 0s - loss: 0.4001 - accuracy: 0.8413\n",
            "Epoch 33: val_accuracy improved from 0.84600 to 0.85400, saving model to /content/checkpoint\n",
            "115/115 [==============================] - 2s 16ms/step - loss: 0.4007 - accuracy: 0.8407 - val_loss: 0.3742 - val_accuracy: 0.8540 - lr: 3.9727e-05\n",
            "Epoch 34/100\n",
            "113/115 [============================>.] - ETA: 0s - loss: 0.3824 - accuracy: 0.8529\n",
            "Epoch 34: val_accuracy improved from 0.85400 to 0.85533, saving model to /content/checkpoint\n",
            "115/115 [==============================] - 2s 16ms/step - loss: 0.3830 - accuracy: 0.8527 - val_loss: 0.3682 - val_accuracy: 0.8553 - lr: 3.9331e-05\n",
            "Epoch 35/100\n",
            "112/115 [============================>.] - ETA: 0s - loss: 0.3865 - accuracy: 0.8494\n",
            "Epoch 35: val_accuracy improved from 0.85533 to 0.86067, saving model to /content/checkpoint\n",
            "115/115 [==============================] - 2s 17ms/step - loss: 0.3859 - accuracy: 0.8496 - val_loss: 0.3651 - val_accuracy: 0.8607 - lr: 3.8940e-05\n",
            "Epoch 36/100\n",
            "113/115 [============================>.] - ETA: 0s - loss: 0.3722 - accuracy: 0.8558\n",
            "Epoch 36: val_accuracy did not improve from 0.86067\n",
            "115/115 [==============================] - 2s 18ms/step - loss: 0.3719 - accuracy: 0.8561 - val_loss: 0.3698 - val_accuracy: 0.8533 - lr: 3.8553e-05\n",
            "Epoch 37/100\n",
            "115/115 [==============================] - ETA: 0s - loss: 0.3798 - accuracy: 0.8524\n",
            "Epoch 37: val_accuracy improved from 0.86067 to 0.86200, saving model to /content/checkpoint\n",
            "115/115 [==============================] - 2s 17ms/step - loss: 0.3798 - accuracy: 0.8524 - val_loss: 0.3548 - val_accuracy: 0.8620 - lr: 3.8169e-05\n",
            "Epoch 38/100\n",
            "113/115 [============================>.] - ETA: 0s - loss: 0.3714 - accuracy: 0.8539\n",
            "Epoch 38: val_accuracy did not improve from 0.86200\n",
            "115/115 [==============================] - 2s 15ms/step - loss: 0.3731 - accuracy: 0.8532 - val_loss: 0.3857 - val_accuracy: 0.8460 - lr: 3.7789e-05\n",
            "Epoch 39/100\n",
            "114/115 [============================>.] - ETA: 0s - loss: 0.3659 - accuracy: 0.8593\n",
            "Epoch 39: val_accuracy did not improve from 0.86200\n",
            "115/115 [==============================] - 2s 17ms/step - loss: 0.3669 - accuracy: 0.8587 - val_loss: 0.3606 - val_accuracy: 0.8533 - lr: 3.7413e-05\n",
            "Epoch 40/100\n",
            "115/115 [==============================] - ETA: 0s - loss: 0.3560 - accuracy: 0.8630\n",
            "Epoch 40: val_accuracy improved from 0.86200 to 0.87200, saving model to /content/checkpoint\n",
            "115/115 [==============================] - 2s 18ms/step - loss: 0.3560 - accuracy: 0.8630 - val_loss: 0.3468 - val_accuracy: 0.8720 - lr: 3.7041e-05\n",
            "Epoch 41/100\n",
            "114/115 [============================>.] - ETA: 0s - loss: 0.3525 - accuracy: 0.8646\n",
            "Epoch 41: val_accuracy did not improve from 0.87200\n",
            "115/115 [==============================] - 2s 16ms/step - loss: 0.3523 - accuracy: 0.8649 - val_loss: 0.3943 - val_accuracy: 0.8433 - lr: 3.6672e-05\n",
            "Epoch 42/100\n",
            "113/115 [============================>.] - ETA: 0s - loss: 0.3509 - accuracy: 0.8653\n",
            "Epoch 42: val_accuracy did not improve from 0.87200\n",
            "115/115 [==============================] - 2s 17ms/step - loss: 0.3514 - accuracy: 0.8652 - val_loss: 0.3361 - val_accuracy: 0.8693 - lr: 3.6307e-05\n",
            "Epoch 43/100\n",
            "113/115 [============================>.] - ETA: 0s - loss: 0.3423 - accuracy: 0.8701\n",
            "Epoch 43: val_accuracy did not improve from 0.87200\n",
            "115/115 [==============================] - 2s 17ms/step - loss: 0.3440 - accuracy: 0.8698 - val_loss: 0.3959 - val_accuracy: 0.8507 - lr: 3.5946e-05\n",
            "Epoch 44/100\n",
            "115/115 [==============================] - ETA: 0s - loss: 0.3385 - accuracy: 0.8711\n",
            "Epoch 44: val_accuracy did not improve from 0.87200\n",
            "115/115 [==============================] - 2s 16ms/step - loss: 0.3385 - accuracy: 0.8711 - val_loss: 0.3604 - val_accuracy: 0.8493 - lr: 3.5589e-05\n",
            "Epoch 45/100\n",
            "113/115 [============================>.] - ETA: 0s - loss: 0.3363 - accuracy: 0.8701\n",
            "Epoch 45: val_accuracy improved from 0.87200 to 0.87467, saving model to /content/checkpoint\n",
            "115/115 [==============================] - 2s 17ms/step - loss: 0.3382 - accuracy: 0.8693 - val_loss: 0.3273 - val_accuracy: 0.8747 - lr: 3.5234e-05\n",
            "Epoch 46/100\n",
            "114/115 [============================>.] - ETA: 0s - loss: 0.3290 - accuracy: 0.8774\n",
            "Epoch 46: val_accuracy did not improve from 0.87467\n",
            "115/115 [==============================] - 2s 16ms/step - loss: 0.3297 - accuracy: 0.8769 - val_loss: 0.3200 - val_accuracy: 0.8720 - lr: 3.4884e-05\n",
            "Epoch 47/100\n",
            "113/115 [============================>.] - ETA: 0s - loss: 0.3295 - accuracy: 0.8744\n",
            "Epoch 47: val_accuracy did not improve from 0.87467\n",
            "115/115 [==============================] - 2s 15ms/step - loss: 0.3290 - accuracy: 0.8747 - val_loss: 0.3309 - val_accuracy: 0.8620 - lr: 3.4537e-05\n",
            "Epoch 48/100\n",
            "113/115 [============================>.] - ETA: 0s - loss: 0.3267 - accuracy: 0.8762\n",
            "Epoch 48: val_accuracy improved from 0.87467 to 0.88000, saving model to /content/checkpoint\n",
            "115/115 [==============================] - 2s 16ms/step - loss: 0.3268 - accuracy: 0.8761 - val_loss: 0.3295 - val_accuracy: 0.8800 - lr: 3.4193e-05\n",
            "Epoch 49/100\n",
            "115/115 [==============================] - ETA: 0s - loss: 0.3248 - accuracy: 0.8763\n",
            "Epoch 49: val_accuracy improved from 0.88000 to 0.88333, saving model to /content/checkpoint\n",
            "115/115 [==============================] - 2s 17ms/step - loss: 0.3248 - accuracy: 0.8763 - val_loss: 0.3098 - val_accuracy: 0.8833 - lr: 3.3853e-05\n",
            "Epoch 50/100\n",
            "115/115 [==============================] - ETA: 0s - loss: 0.3188 - accuracy: 0.8771\n",
            "Epoch 50: val_accuracy did not improve from 0.88333\n",
            "115/115 [==============================] - 2s 17ms/step - loss: 0.3188 - accuracy: 0.8771 - val_loss: 0.3536 - val_accuracy: 0.8713 - lr: 3.3516e-05\n",
            "Epoch 51/100\n",
            "115/115 [==============================] - ETA: 0s - loss: 0.3205 - accuracy: 0.8785\n",
            "Epoch 51: val_accuracy did not improve from 0.88333\n",
            "115/115 [==============================] - 2s 18ms/step - loss: 0.3205 - accuracy: 0.8785 - val_loss: 0.3263 - val_accuracy: 0.8747 - lr: 3.3183e-05\n",
            "Epoch 52/100\n",
            "115/115 [==============================] - ETA: 0s - loss: 0.3134 - accuracy: 0.8793\n",
            "Epoch 52: val_accuracy did not improve from 0.88333\n",
            "115/115 [==============================] - 2s 16ms/step - loss: 0.3134 - accuracy: 0.8793 - val_loss: 0.3073 - val_accuracy: 0.8827 - lr: 3.2852e-05\n",
            "Epoch 53/100\n",
            "114/115 [============================>.] - ETA: 0s - loss: 0.3158 - accuracy: 0.8775\n",
            "Epoch 53: val_accuracy improved from 0.88333 to 0.88667, saving model to /content/checkpoint\n",
            "115/115 [==============================] - 2s 16ms/step - loss: 0.3159 - accuracy: 0.8776 - val_loss: 0.2983 - val_accuracy: 0.8867 - lr: 3.2525e-05\n",
            "Epoch 54/100\n",
            "113/115 [============================>.] - ETA: 0s - loss: 0.3058 - accuracy: 0.8829\n",
            "Epoch 54: val_accuracy did not improve from 0.88667\n",
            "115/115 [==============================] - 2s 15ms/step - loss: 0.3050 - accuracy: 0.8833 - val_loss: 0.3062 - val_accuracy: 0.8833 - lr: 3.2202e-05\n",
            "Epoch 55/100\n",
            "112/115 [============================>.] - ETA: 0s - loss: 0.2997 - accuracy: 0.8866\n",
            "Epoch 55: val_accuracy did not improve from 0.88667\n",
            "115/115 [==============================] - 2s 15ms/step - loss: 0.3003 - accuracy: 0.8864 - val_loss: 0.3464 - val_accuracy: 0.8707 - lr: 3.1881e-05\n",
            "Epoch 56/100\n",
            "112/115 [============================>.] - ETA: 0s - loss: 0.2979 - accuracy: 0.8871\n",
            "Epoch 56: val_accuracy did not improve from 0.88667\n",
            "115/115 [==============================] - 2s 16ms/step - loss: 0.2983 - accuracy: 0.8873 - val_loss: 0.3592 - val_accuracy: 0.8533 - lr: 3.1564e-05\n",
            "Epoch 57/100\n",
            "113/115 [============================>.] - ETA: 0s - loss: 0.3051 - accuracy: 0.8821\n",
            "Epoch 57: val_accuracy did not improve from 0.88667\n",
            "115/115 [==============================] - 2s 18ms/step - loss: 0.3046 - accuracy: 0.8825 - val_loss: 0.3240 - val_accuracy: 0.8680 - lr: 3.1250e-05\n",
            "Epoch 58/100\n",
            "115/115 [==============================] - ETA: 0s - loss: 0.2944 - accuracy: 0.8892\n",
            "Epoch 58: val_accuracy improved from 0.88667 to 0.88867, saving model to /content/checkpoint\n",
            "115/115 [==============================] - 2s 18ms/step - loss: 0.2944 - accuracy: 0.8892 - val_loss: 0.2844 - val_accuracy: 0.8887 - lr: 3.0939e-05\n",
            "Epoch 59/100\n",
            "114/115 [============================>.] - ETA: 0s - loss: 0.2989 - accuracy: 0.8873\n",
            "Epoch 59: val_accuracy did not improve from 0.88867\n",
            "115/115 [==============================] - 2s 16ms/step - loss: 0.2995 - accuracy: 0.8870 - val_loss: 0.3004 - val_accuracy: 0.8867 - lr: 3.0631e-05\n",
            "Epoch 60/100\n",
            "113/115 [============================>.] - ETA: 0s - loss: 0.3005 - accuracy: 0.8851\n",
            "Epoch 60: val_accuracy did not improve from 0.88867\n",
            "115/115 [==============================] - 2s 15ms/step - loss: 0.2994 - accuracy: 0.8859 - val_loss: 0.3180 - val_accuracy: 0.8707 - lr: 3.0327e-05\n",
            "Epoch 61/100\n",
            "113/115 [============================>.] - ETA: 0s - loss: 0.2898 - accuracy: 0.8907\n",
            "Epoch 61: val_accuracy did not improve from 0.88867\n",
            "115/115 [==============================] - 2s 15ms/step - loss: 0.2887 - accuracy: 0.8913 - val_loss: 0.3071 - val_accuracy: 0.8767 - lr: 3.0025e-05\n",
            "Epoch 62/100\n",
            "113/115 [============================>.] - ETA: 0s - loss: 0.2826 - accuracy: 0.8931\n",
            "Epoch 62: val_accuracy did not improve from 0.88867\n",
            "115/115 [==============================] - 2s 15ms/step - loss: 0.2822 - accuracy: 0.8933 - val_loss: 0.3080 - val_accuracy: 0.8847 - lr: 2.9726e-05\n",
            "Epoch 63/100\n",
            "112/115 [============================>.] - ETA: 0s - loss: 0.2792 - accuracy: 0.8946\n",
            "Epoch 63: val_accuracy improved from 0.88867 to 0.89333, saving model to /content/checkpoint\n",
            "115/115 [==============================] - 2s 16ms/step - loss: 0.2805 - accuracy: 0.8942 - val_loss: 0.2837 - val_accuracy: 0.8933 - lr: 2.9430e-05\n",
            "Epoch 64/100\n",
            "113/115 [============================>.] - ETA: 0s - loss: 0.2938 - accuracy: 0.8874\n",
            "Epoch 64: val_accuracy did not improve from 0.89333\n",
            "115/115 [==============================] - 2s 16ms/step - loss: 0.2932 - accuracy: 0.8876 - val_loss: 0.2964 - val_accuracy: 0.8893 - lr: 2.9137e-05\n",
            "Epoch 65/100\n",
            "114/115 [============================>.] - ETA: 0s - loss: 0.2814 - accuracy: 0.8935\n",
            "Epoch 65: val_accuracy did not improve from 0.89333\n",
            "115/115 [==============================] - 2s 18ms/step - loss: 0.2817 - accuracy: 0.8931 - val_loss: 0.2878 - val_accuracy: 0.8813 - lr: 2.8847e-05\n",
            "Epoch 66/100\n",
            "114/115 [============================>.] - ETA: 0s - loss: 0.2756 - accuracy: 0.8976\n",
            "Epoch 66: val_accuracy did not improve from 0.89333\n",
            "115/115 [==============================] - 2s 15ms/step - loss: 0.2755 - accuracy: 0.8975 - val_loss: 0.2994 - val_accuracy: 0.8760 - lr: 2.8560e-05\n",
            "Epoch 67/100\n",
            "112/115 [============================>.] - ETA: 0s - loss: 0.2813 - accuracy: 0.8944\n",
            "Epoch 67: val_accuracy did not improve from 0.89333\n",
            "115/115 [==============================] - 2s 15ms/step - loss: 0.2816 - accuracy: 0.8945 - val_loss: 0.2796 - val_accuracy: 0.8927 - lr: 2.8276e-05\n",
            "Epoch 68/100\n",
            "113/115 [============================>.] - ETA: 0s - loss: 0.2681 - accuracy: 0.8998\n",
            "Epoch 68: val_accuracy improved from 0.89333 to 0.89800, saving model to /content/checkpoint\n",
            "115/115 [==============================] - 2s 16ms/step - loss: 0.2686 - accuracy: 0.8995 - val_loss: 0.2705 - val_accuracy: 0.8980 - lr: 2.7995e-05\n",
            "Epoch 69/100\n",
            "113/115 [============================>.] - ETA: 0s - loss: 0.2713 - accuracy: 0.8975\n",
            "Epoch 69: val_accuracy did not improve from 0.89800\n",
            "115/115 [==============================] - 2s 15ms/step - loss: 0.2712 - accuracy: 0.8975 - val_loss: 0.2786 - val_accuracy: 0.8940 - lr: 2.7716e-05\n",
            "Epoch 70/100\n",
            "113/115 [============================>.] - ETA: 0s - loss: 0.2658 - accuracy: 0.9021\n",
            "Epoch 70: val_accuracy improved from 0.89800 to 0.89867, saving model to /content/checkpoint\n",
            "115/115 [==============================] - 2s 17ms/step - loss: 0.2656 - accuracy: 0.9020 - val_loss: 0.2668 - val_accuracy: 0.8987 - lr: 2.7441e-05\n",
            "Epoch 71/100\n",
            "113/115 [============================>.] - ETA: 0s - loss: 0.2620 - accuracy: 0.9005\n",
            "Epoch 71: val_accuracy did not improve from 0.89867\n",
            "115/115 [==============================] - 2s 18ms/step - loss: 0.2621 - accuracy: 0.9003 - val_loss: 0.2694 - val_accuracy: 0.8933 - lr: 2.7168e-05\n",
            "Epoch 72/100\n",
            "114/115 [============================>.] - ETA: 0s - loss: 0.2640 - accuracy: 0.9025\n",
            "Epoch 72: val_accuracy improved from 0.89867 to 0.90400, saving model to /content/checkpoint\n",
            "115/115 [==============================] - 2s 17ms/step - loss: 0.2648 - accuracy: 0.9024 - val_loss: 0.2593 - val_accuracy: 0.9040 - lr: 2.6897e-05\n",
            "Epoch 73/100\n",
            "113/115 [============================>.] - ETA: 0s - loss: 0.2626 - accuracy: 0.9022\n",
            "Epoch 73: val_accuracy did not improve from 0.90400\n",
            "115/115 [==============================] - 2s 15ms/step - loss: 0.2627 - accuracy: 0.9021 - val_loss: 0.2656 - val_accuracy: 0.9007 - lr: 2.6630e-05\n",
            "Epoch 74/100\n",
            "113/115 [============================>.] - ETA: 0s - loss: 0.2617 - accuracy: 0.9014\n",
            "Epoch 74: val_accuracy did not improve from 0.90400\n",
            "115/115 [==============================] - 2s 15ms/step - loss: 0.2621 - accuracy: 0.9014 - val_loss: 0.2597 - val_accuracy: 0.9000 - lr: 2.6365e-05\n",
            "Epoch 75/100\n",
            "113/115 [============================>.] - ETA: 0s - loss: 0.2635 - accuracy: 0.8989\n",
            "Epoch 75: val_accuracy did not improve from 0.90400\n",
            "115/115 [==============================] - 2s 15ms/step - loss: 0.2631 - accuracy: 0.8995 - val_loss: 0.2550 - val_accuracy: 0.9007 - lr: 2.6102e-05\n",
            "Epoch 76/100\n",
            "114/115 [============================>.] - ETA: 0s - loss: 0.2574 - accuracy: 0.9044\n",
            "Epoch 76: val_accuracy did not improve from 0.90400\n",
            "115/115 [==============================] - 2s 17ms/step - loss: 0.2567 - accuracy: 0.9047 - val_loss: 0.2736 - val_accuracy: 0.8953 - lr: 2.5843e-05\n",
            "Epoch 77/100\n",
            "114/115 [============================>.] - ETA: 0s - loss: 0.2515 - accuracy: 0.9075\n",
            "Epoch 77: val_accuracy did not improve from 0.90400\n",
            "115/115 [==============================] - 2s 18ms/step - loss: 0.2517 - accuracy: 0.9073 - val_loss: 0.2682 - val_accuracy: 0.8940 - lr: 2.5585e-05\n",
            "Epoch 78/100\n",
            "115/115 [==============================] - ETA: 0s - loss: 0.2576 - accuracy: 0.9023\n",
            "Epoch 78: val_accuracy did not improve from 0.90400\n",
            "115/115 [==============================] - 2s 17ms/step - loss: 0.2576 - accuracy: 0.9023 - val_loss: 0.2698 - val_accuracy: 0.8953 - lr: 2.5331e-05\n",
            "Epoch 79/100\n",
            "114/115 [============================>.] - ETA: 0s - loss: 0.2546 - accuracy: 0.9055\n",
            "Epoch 79: val_accuracy did not improve from 0.90400\n",
            "115/115 [==============================] - 2s 15ms/step - loss: 0.2546 - accuracy: 0.9054 - val_loss: 0.2499 - val_accuracy: 0.9040 - lr: 2.5079e-05\n",
            "Epoch 80/100\n",
            "113/115 [============================>.] - ETA: 0s - loss: 0.2505 - accuracy: 0.9042\n",
            "Epoch 80: val_accuracy improved from 0.90400 to 0.90533, saving model to /content/checkpoint\n",
            "115/115 [==============================] - 2s 16ms/step - loss: 0.2506 - accuracy: 0.9042 - val_loss: 0.2492 - val_accuracy: 0.9053 - lr: 2.4829e-05\n",
            "Epoch 81/100\n",
            "112/115 [============================>.] - ETA: 0s - loss: 0.2506 - accuracy: 0.9071\n",
            "Epoch 81: val_accuracy did not improve from 0.90533\n",
            "115/115 [==============================] - 2s 15ms/step - loss: 0.2505 - accuracy: 0.9073 - val_loss: 0.2490 - val_accuracy: 0.9053 - lr: 2.4582e-05\n",
            "Epoch 82/100\n",
            "113/115 [============================>.] - ETA: 0s - loss: 0.2490 - accuracy: 0.9073\n",
            "Epoch 82: val_accuracy did not improve from 0.90533\n",
            "115/115 [==============================] - 2s 16ms/step - loss: 0.2482 - accuracy: 0.9079 - val_loss: 0.2530 - val_accuracy: 0.9053 - lr: 2.4338e-05\n",
            "Epoch 83/100\n",
            "113/115 [============================>.] - ETA: 0s - loss: 0.2453 - accuracy: 0.9061\n",
            "Epoch 83: val_accuracy did not improve from 0.90533\n",
            "115/115 [==============================] - 2s 18ms/step - loss: 0.2461 - accuracy: 0.9057 - val_loss: 0.2935 - val_accuracy: 0.8740 - lr: 2.4095e-05\n",
            "Epoch 84/100\n",
            "112/115 [============================>.] - ETA: 0s - loss: 0.2408 - accuracy: 0.9113\n",
            "Epoch 84: val_accuracy did not improve from 0.90533\n",
            "115/115 [==============================] - 2s 18ms/step - loss: 0.2418 - accuracy: 0.9107 - val_loss: 0.2665 - val_accuracy: 0.8940 - lr: 2.3856e-05\n",
            "Epoch 85/100\n",
            "114/115 [============================>.] - ETA: 0s - loss: 0.2426 - accuracy: 0.9084\n",
            "Epoch 85: val_accuracy improved from 0.90533 to 0.90733, saving model to /content/checkpoint\n",
            "115/115 [==============================] - 2s 16ms/step - loss: 0.2423 - accuracy: 0.9085 - val_loss: 0.2430 - val_accuracy: 0.9073 - lr: 2.3618e-05\n",
            "Epoch 86/100\n",
            "114/115 [============================>.] - ETA: 0s - loss: 0.2437 - accuracy: 0.9083\n",
            "Epoch 86: val_accuracy did not improve from 0.90733\n",
            "115/115 [==============================] - 2s 15ms/step - loss: 0.2438 - accuracy: 0.9085 - val_loss: 0.2624 - val_accuracy: 0.9053 - lr: 2.3383e-05\n",
            "Epoch 87/100\n",
            "113/115 [============================>.] - ETA: 0s - loss: 0.2380 - accuracy: 0.9120\n",
            "Epoch 87: val_accuracy did not improve from 0.90733\n",
            "115/115 [==============================] - 2s 15ms/step - loss: 0.2386 - accuracy: 0.9118 - val_loss: 0.2744 - val_accuracy: 0.8933 - lr: 2.3151e-05\n",
            "Epoch 88/100\n",
            "113/115 [============================>.] - ETA: 0s - loss: 0.2440 - accuracy: 0.9091\n",
            "Epoch 88: val_accuracy did not improve from 0.90733\n",
            "115/115 [==============================] - 2s 15ms/step - loss: 0.2439 - accuracy: 0.9092 - val_loss: 0.2537 - val_accuracy: 0.8987 - lr: 2.2920e-05\n",
            "Epoch 89/100\n",
            "112/115 [============================>.] - ETA: 0s - loss: 0.2354 - accuracy: 0.9109\n",
            "Epoch 89: val_accuracy did not improve from 0.90733\n",
            "115/115 [==============================] - 2s 15ms/step - loss: 0.2359 - accuracy: 0.9106 - val_loss: 0.2434 - val_accuracy: 0.9040 - lr: 2.2692e-05\n",
            "Epoch 90/100\n",
            "115/115 [==============================] - ETA: 0s - loss: 0.2383 - accuracy: 0.9094\n",
            "Epoch 90: val_accuracy did not improve from 0.90733\n",
            "115/115 [==============================] - 2s 18ms/step - loss: 0.2383 - accuracy: 0.9094 - val_loss: 0.2666 - val_accuracy: 0.8893 - lr: 2.2466e-05\n",
            "Epoch 91/100\n",
            "114/115 [============================>.] - ETA: 0s - loss: 0.2337 - accuracy: 0.9119\n",
            "Epoch 91: val_accuracy improved from 0.90733 to 0.91000, saving model to /content/checkpoint\n",
            "115/115 [==============================] - 2s 18ms/step - loss: 0.2339 - accuracy: 0.9118 - val_loss: 0.2378 - val_accuracy: 0.9100 - lr: 2.2243e-05\n",
            "Epoch 92/100\n",
            "113/115 [============================>.] - ETA: 0s - loss: 0.2289 - accuracy: 0.9143\n",
            "Epoch 92: val_accuracy did not improve from 0.91000\n",
            "115/115 [==============================] - 2s 15ms/step - loss: 0.2285 - accuracy: 0.9146 - val_loss: 0.2431 - val_accuracy: 0.9027 - lr: 2.2022e-05\n",
            "Epoch 93/100\n",
            "113/115 [============================>.] - ETA: 0s - loss: 0.2361 - accuracy: 0.9099\n",
            "Epoch 93: val_accuracy did not improve from 0.91000\n",
            "115/115 [==============================] - 2s 15ms/step - loss: 0.2360 - accuracy: 0.9098 - val_loss: 0.2560 - val_accuracy: 0.8960 - lr: 2.1802e-05\n",
            "Epoch 94/100\n",
            "115/115 [==============================] - ETA: 0s - loss: 0.2311 - accuracy: 0.9133\n",
            "Epoch 94: val_accuracy did not improve from 0.91000\n",
            "115/115 [==============================] - 2s 15ms/step - loss: 0.2311 - accuracy: 0.9133 - val_loss: 0.2456 - val_accuracy: 0.9007 - lr: 2.1586e-05\n",
            "Epoch 95/100\n",
            "112/115 [============================>.] - ETA: 0s - loss: 0.2301 - accuracy: 0.9142\n",
            "Epoch 95: val_accuracy improved from 0.91000 to 0.91400, saving model to /content/checkpoint\n",
            "115/115 [==============================] - 2s 16ms/step - loss: 0.2291 - accuracy: 0.9144 - val_loss: 0.2361 - val_accuracy: 0.9140 - lr: 2.1371e-05\n",
            "Epoch 96/100\n",
            "114/115 [============================>.] - ETA: 0s - loss: 0.2325 - accuracy: 0.9122\n",
            "Epoch 96: val_accuracy did not improve from 0.91400\n",
            "115/115 [==============================] - 2s 18ms/step - loss: 0.2326 - accuracy: 0.9122 - val_loss: 0.2345 - val_accuracy: 0.9093 - lr: 2.1158e-05\n",
            "Epoch 97/100\n",
            "112/115 [============================>.] - ETA: 0s - loss: 0.2344 - accuracy: 0.9104\n",
            "Epoch 97: val_accuracy did not improve from 0.91400\n",
            "115/115 [==============================] - 2s 18ms/step - loss: 0.2341 - accuracy: 0.9105 - val_loss: 0.2385 - val_accuracy: 0.9080 - lr: 2.0948e-05\n",
            "Epoch 98/100\n",
            "113/115 [============================>.] - ETA: 0s - loss: 0.2233 - accuracy: 0.9179\n",
            "Epoch 98: val_accuracy did not improve from 0.91400\n",
            "115/115 [==============================] - 2s 16ms/step - loss: 0.2239 - accuracy: 0.9178 - val_loss: 0.2589 - val_accuracy: 0.8980 - lr: 2.0739e-05\n",
            "Epoch 99/100\n",
            "112/115 [============================>.] - ETA: 0s - loss: 0.2225 - accuracy: 0.9174\n",
            "Epoch 99: val_accuracy did not improve from 0.91400\n",
            "115/115 [==============================] - 2s 16ms/step - loss: 0.2235 - accuracy: 0.9168 - val_loss: 0.2535 - val_accuracy: 0.9047 - lr: 2.0533e-05\n",
            "Epoch 100/100\n",
            "115/115 [==============================] - ETA: 0s - loss: 0.2246 - accuracy: 0.9161\n",
            "Epoch 100: val_accuracy did not improve from 0.91400\n",
            "115/115 [==============================] - 2s 16ms/step - loss: 0.2246 - accuracy: 0.9161 - val_loss: 0.2415 - val_accuracy: 0.9053 - lr: 2.0328e-05\n"
          ]
        }
      ]
    },
    {
      "cell_type": "markdown",
      "source": [
        "# Model Evaluation\n",
        "\n",
        "**Create plots using the losses and metrics. In your report, discuss these results and critically evaluate the models performance.**"
      ],
      "metadata": {
        "id": "hkaP8sRwKLYn"
      }
    },
    {
      "cell_type": "code",
      "source": [
        "# CodeGrade Tag Ex4a\n",
        "train_loss = history.history['loss']\n",
        "val_loss = history.history['val_loss']\n",
        "train_accuracy = history.history['accuracy']\n",
        "val_accuracy = history.history['val_accuracy']\n",
        "\n",
        "# Plot the training and validation loss\n",
        "plt.figure(figsize=(12, 4))\n",
        "plt.subplot(1, 2, 1)\n",
        "plt.plot(train_loss, label='Training Loss')\n",
        "plt.plot(val_loss, label='Validation Loss')\n",
        "plt.xlabel('Epoch')\n",
        "plt.ylabel('Loss')\n",
        "plt.legend()\n",
        "\n",
        "# Plot the training and validation accuracy\n",
        "plt.subplot(1, 2, 2)\n",
        "plt.plot(train_accuracy, label='Training Accuracy')\n",
        "plt.plot(val_accuracy, label='Validation Accuracy')\n",
        "plt.xlabel('Epoch')\n",
        "plt.ylabel('Accuracy')\n",
        "plt.legend()\n",
        "\n",
        "plt.tight_layout()\n",
        "plt.show()"
      ],
      "metadata": {
        "id": "V-zTj4ZZKQ2p",
        "colab": {
          "base_uri": "https://localhost:8080/",
          "height": 326
        },
        "outputId": "cde15447-6fc4-4507-cac9-36d2ac74cbd9"
      },
      "execution_count": null,
      "outputs": [
        {
          "output_type": "display_data",
          "data": {
            "text/plain": [
              "<Figure size 1200x400 with 2 Axes>"
            ],
            "image/png": "[encoded data removed]"
          },
          "metadata": {}
        }
      ]
    },
    {
      "cell_type": "markdown",
      "source": [
        "**Load the best weights from your model checkpoint, and create plots demonstrating the classification perfomnce for all three classes. Include these plots in your report, and critically evaluate on the performance of the model across the classes.**"
      ],
      "metadata": {
        "id": "be9li89iSP6E"
      }
    },
    {
      "cell_type": "code",
      "source": [
        "# CodeGrade Tag Ex4b\n",
        "model.load_weights('/content/checkpoint')\n",
        "\n",
        "\n",
        "valid_predictions = model.predict(valid_ds)\n",
        "predicted_classes = np.argmax(valid_predictions, axis=1)\n",
        "\n",
        "true_labels = np.concatenate([y for x, y in valid_ds], axis=0)\n",
        "\n",
        "# Confusion Matrix\n",
        "conf_matrix = confusion_matrix(true_labels, predicted_classes)\n",
        "plt.figure(figsize=(10, 8))\n",
        "sns.heatmap(conf_matrix, annot=True, fmt='g')\n",
        "plt.title('Confusion Matrix')\n",
        "plt.ylabel('Actual')\n",
        "plt.xlabel('Predicted')\n",
        "plt.show()\n",
        "\n",
        "# Classification Report\n",
        "print(classification_report(true_labels, predicted_classes, target_names=['Class 1', 'Class 2', 'Class 3']))"
      ],
      "metadata": {
        "id": "x7BtdNrsSlai",
        "colab": {
          "base_uri": "https://localhost:8080/",
          "height": 262
        },
        "outputId": "144278f6-c21b-4087-af41-fa765863b4f6"
      },
      "execution_count": null,
      "outputs": [
        {
          "output_type": "stream",
          "name": "stdout",
          "text": [
            "12/12 [==============================] - 0s 7ms/step\n"
          ]
        },
        {
          "output_type": "error",
          "ename": "NameError",
          "evalue": "name 'confusion_matrix' is not defined",
          "traceback": [
            "\u001b[0;31m---------------------------------------------------------------------------\u001b[0m",
            "\u001b[0;31mNameError\u001b[0m                                 Traceback (most recent call last)",
            "\u001b[0;32m<ipython-input-15-13a8147f41b8>\u001b[0m in \u001b[0;36m<cell line: 11>\u001b[0;34m()\u001b[0m\n\u001b[1;32m      9\u001b[0m \u001b[0;34m\u001b[0m\u001b[0m\n\u001b[1;32m     10\u001b[0m \u001b[0;31m# Confusion Matrix\u001b[0m\u001b[0;34m\u001b[0m\u001b[0;34m\u001b[0m\u001b[0m\n\u001b[0;32m---> 11\u001b[0;31m \u001b[0mconf_matrix\u001b[0m \u001b[0;34m=\u001b[0m \u001b[0mconfusion_matrix\u001b[0m\u001b[0;34m(\u001b[0m\u001b[0mtrue_labels\u001b[0m\u001b[0;34m,\u001b[0m \u001b[0mpredicted_classes\u001b[0m\u001b[0;34m)\u001b[0m\u001b[0;34m\u001b[0m\u001b[0;34m\u001b[0m\u001b[0m\n\u001b[0m\u001b[1;32m     12\u001b[0m \u001b[0mplt\u001b[0m\u001b[0;34m.\u001b[0m\u001b[0mfigure\u001b[0m\u001b[0;34m(\u001b[0m\u001b[0mfigsize\u001b[0m\u001b[0;34m=\u001b[0m\u001b[0;34m(\u001b[0m\u001b[0;36m10\u001b[0m\u001b[0;34m,\u001b[0m \u001b[0;36m8\u001b[0m\u001b[0;34m)\u001b[0m\u001b[0;34m)\u001b[0m\u001b[0;34m\u001b[0m\u001b[0;34m\u001b[0m\u001b[0m\n\u001b[1;32m     13\u001b[0m \u001b[0msns\u001b[0m\u001b[0;34m.\u001b[0m\u001b[0mheatmap\u001b[0m\u001b[0;34m(\u001b[0m\u001b[0mconf_matrix\u001b[0m\u001b[0;34m,\u001b[0m \u001b[0mannot\u001b[0m\u001b[0;34m=\u001b[0m\u001b[0;32mTrue\u001b[0m\u001b[0;34m,\u001b[0m \u001b[0mfmt\u001b[0m\u001b[0;34m=\u001b[0m\u001b[0;34m'g'\u001b[0m\u001b[0;34m)\u001b[0m\u001b[0;34m\u001b[0m\u001b[0;34m\u001b[0m\u001b[0m\n",
            "\u001b[0;31mNameError\u001b[0m: name 'confusion_matrix' is not defined"
          ]
        }
      ]
    }
  ]
}